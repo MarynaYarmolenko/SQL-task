{
  "nbformat": 4,
  "nbformat_minor": 0,
  "metadata": {
    "colab": {
      "provenance": [],
      "authorship_tag": "ABX9TyNp1K+8TGm59/x49WWhsy6f"
    },
    "kernelspec": {
      "name": "python3",
      "display_name": "Python 3"
    },
    "language_info": {
      "name": "python"
    }
  },
  "cells": [
    {
      "cell_type": "markdown",
      "source": [
        "Day 1\n",
        "\n",
        "Today's Question:\n",
        "\n",
        "A ski resort company want to know which customers rented ski equipment for more than one type of activity (e.g., skiing and snowboarding). List the customer names and the number of distinct activities they rented equipment for.\n",
        "\n",
        "Table name: rentals\n",
        "\n",
        "rental_id\t| customer_name\t| activity\t| rental_date\n",
        "\n",
        "1 Emily\tSkiing\t2024-01-01\n",
        "\n",
        "2\tMichael\tSnowboarding\t2024-01-02\n",
        "\n",
        "3\tEmily\tSnowboarding\t2024-01-03\n",
        "\n",
        "4\tSarah\tSkiing\t2024-01-01\n",
        "\n",
        "5\tMichael\tSkiing\t2024-01-02\n",
        "\n",
        "6\tMichael\tSnowtubing\t2024-01-02"
      ],
      "metadata": {
        "id": "yeNmfdKHq4uB"
      }
    },
    {
      "cell_type": "code",
      "source": [
        "select\n",
        "    customer_name,\n",
        "    count(distinct activity)\n",
        "from rentals\n",
        "group by customer_name\n",
        "having count(distinct activity) > 1\n",
        ";"
      ],
      "metadata": {
        "id": "hUWculXgrylN"
      },
      "execution_count": null,
      "outputs": []
    },
    {
      "cell_type": "markdown",
      "source": [
        "![image.png](data:image/png;base64,iVBORw0KGgoAAAANSUhEUgAAAjgAAAB5CAYAAAA07lsWAAAAAXNSR0IArs4c6QAAAARnQU1BAACxjwv8YQUAAAAJcEhZcwAADsMAAA7DAcdvqGQAABImSURBVHhe7d1vaBVX/sfxr/s8pOKPaK+JIi6IhDYSlLiVlrrQbhYqXVEQ1wf2UaG4bO2DwBIWloVFFvKg9sfKQh81D6wIlrS0sNkW1mUlVlFC0hKKsKWoSVrDhpjNA6EUuufMnDlzZu7M3LmTm5t4fL/gtvfPeOfeuTPnfM6fmWx69P0PPwoAAIBHfmL+DwAA4A0CDgAA8A4BBwAAeIeAAwAAvEPAAQAA3iHgAAAA7xBwAACAdwg4AADAOwQcAADgHQIOAADwDgEHAAB4h4ADAAC8Q8ABAADeIeAAAADvEHAAAIB3CDgAAMA7BBwAAOAdAg4AAPAOAQcAAHhn06Pvf/jR3E+YHfuDvHll0TwynntNPjizX2T+Y3lz6O8yK1vk1yN/lGM187py48JvZOS6uhMtG7H/xtUrQxffkIOZr7nMcuaRyG05f+o9uWYeBdLrC6SWy1gm+T3d9WSsI+B859t/lWNvz4RPJ6Q/b5Hv5IPf/Unev6/v129P+/l6fiHv/PmIdJvnI4nPn7kN3PdXst4n8T3cz5D6t47n3/qLnE2vCoCSfdzUHTMZ5V738d/LO0e3mUeh/DIgLqPi9262PMk/xiPpz23fIypvcsvB7HIi//sUbzdbt+Sw285+Hrccbna7JNnXXcH37256+2Vz65v6z5eUVTeZfzOf/1sEMn73+u2W8ZmdfTV6rfK+JPF6Evu7s47g+Z6xcLnMeq2cjB4cvfF+U/9jrobecIUBpjy9UY9lBY/r76nn/yo3zMNM12+lXv9Obt5s4fe0ZmSk0WfJtCjvj90298tIff6675fh/m25OW/uGzduFhwQAMrTZd2p4kJe05V1Vpk4e+VPcux3H7ekrGy+PClBVUIjUaVWotK59rb6nqW+j653Gm+31mhmu6xBfZjl9i2nTluUf938ztxPyq3/WmH/AXne3P3mfnL9szdvm9+wVw5Wyxqx/W/I0HPh3dmbt+y+Ydeh9q0hHXrUcu8c3xLU7ecr7sapgKMTWLzxdNr64GJ0e81++eao97xiKlB9UNj3+4v9klI7Ej//Vq95UqfvaFmTwqODS9OpLnp95BcmcatgcSFrS2yR7h79/xm54b48f0v+pQ+oHvV6+Eym5HbIStbxZw1+kEBqXWU182NGnz/v+yVEy6QPnttyQ7eKGmwDnajjbVCmRQI8YXQL1Lae3fJL3Wy5pqgQFPVEJI6raJn7f5eRsewKrmkNy5NtcuzP0eeMy3i3zHOP9RtjphV/vL6XI/mdfy+/DsobpcT3mR372NQ7uiciXre73Q6eqX9vd/ule74KlSpny9SHzW2/PFEjs1uVw5pb8Vtqv7FBK1WXvnPcfHcVCuLnTF3kLpvROxXbLwczgoc2Ox/VuwcKRibKb4uDA/G+fiX4HW7LFfPd3H2re2B/cP/a21U6DNIBx1aY4YdK/jD75WzFbqI8B8+UHcYJRQdXcCC5n0UFpKHox7z+sXyQ6qHQdpkd55pKiZEoMT7fs61+Z6oo+kGqiHbusj+mTbzPqe8/UP/9khbVNgh3qsTOa1oO3WobAKjObeXWDVGriicsT5MNvqClGnFbtlfGKhXormbLk8ZMY0h9v8ateF3ZxUEks8Iuw2631im9XdpWH0bbdYu88NsjYTAo6mnXgSUVVLqPvlEwpFVeHDzc9UefT20HVb+1xP6jdt8I6izbg5Xat1TdfjI4Jqp1GCQCTku7oaxtMmAqX53W3tTdfZVaJ9/JXNR9mZEi42CxKPczAk5P9LodxomGd7ZIT4MdI+hmVZ87uDXobnVDWNPbcOCI+dHzeqJc8fCU3ulsQCkaphowXZDOzhsdNLtqxbEs6DqPtkGl4TfAZ85wcWErd1bum3KsWx2P6aPOVjC6vMsox5rSVHlSQlQJ9XSXbMS5Zf9sYbnplt/vDzUuZ1el5HZZm/owg92u+2VAlcM9wWfL6WlXsvablrHDVE49mhc+VkUF4ONmX1d11vmoB+v40fq6vRbuQ+lhszKSASfqhiq9A5fTffSP8XCUElWWzY2rOQVDg8o4U+2AvGB26iAJ2uEptVMFz6+GnnMTVv5R1/PzbzXXOxXqlmO/NcNtOT1Rlm1dmJ3O7phFSTfqgowOHqdFNqD/D6CakuXT/Lfyjbm7a817TZsoT0qYjSqYnqdbWj8E9DQFdxjPNIaPtSKY1Sm3XdaqPkyzw1NBcIlDYaLXq237TTxMFY0G2J6jwuBege3FmZFrph46mTHMGDXeZ+ebj7yJgBMlpUZpu4z0QR6Nn7pB59rbf2jioIuSbbUv6rYm9A8XpfMyaTgx9lo4hhmq785sgh1uUy2Z/89vxdjWhT346nfMLFELMTh4omReYsdNzsGpEt4An5Usn2pPyy5zt0qLNFtBL3TJ8mRDiOaPuEHn+nsVe/wbKLFdWlkf5ot7ZqLgYnuz3GGiNdlvstlexGA0IB45adnwlOX08ClZvTcJ979t+ndIBhybDBuMd9mNnR4OcoaRcgRBx04Kzp8tXm+bbI96WjKGYcp0J9odR6X2ETM89cJAK9JwOLkumtSlh7SqzvrW9HhqkGz15LzM2ftOd3jU0nF6jwqHqaKeHnXwjJi5AK3fcYEnTXH5FHOCUMa8lHiehR6uCO/acjld0Tqt+iKNy5O1Ek8cbar1HwSdFszfaaDRdildH66GHf4J641gCoA9u86tH4v3m5ZyRwPGUiMFLRYPTZaoiyv0HCYnGTunidVV0voMAdtdGG/sa1ec9Ht7zJzm535YPRM9f85GM91t8fh0auzUnV1edCDZYapFmdWf0ylEWsEdilvdxD5nfDKLM/kt24xcym31xMNUwTZYox0XeNIkyqfUPDV9em9YnibnJLpnF+ll7NlVbs9yLeqlTR7Xdr5fw3KsQXlSUhy0yrSkU2cgNWhExdsnw1oMiQUabJfS9WF1NtDmiCebJ/ebN1NzlG5caGY0pJF4NOCbqOOg1cNTTbBDoxUkA476Ymed7sHE5NrENRucHcPpQbAXGHruSGpGdzxHJfleTVauKtnbU9+u6+vepNarZ5cXzmxPdYmVnKyV2A7qVtQ7c/BofMp6fsgowTmjIs3trUqcilqy1RMXxErJHTc5ybjqRHHAY4ljNlnmuddRcRtC7nEVN9JeS57ybM8kSS5v5/tlnrKdUlCelGZ7f/OGbNzvHF/TRg9vlxmyT5az8b9f0x7mwu1Stj6sypk4nLoMRzxMF/ce2R4nza131c323reIncpwP9wn17OXP5oLVeUzpAKOon7wxDUMHIkV6OXsUFMs+KESISMZKqzg3Pzm53LowiF3vSXmxzTVJVaFHdsNC6OiMNTIwTNZ1x4q6vZ1U379aYaW0zJZzx0X8E1yCN6VbMwFy7lzTYxgvl9GI00vH19jKxJeM6bsfL/s8qQZUcu+7JCNGbovcX2auFx2Nff9qircLmXrwwrca//U1UVu75GdU7ktvM5Mxn7T6tEId/3r28vvnAhT4TPk/qkGAAAS9NCM7r3IuBYL0Gp66FL3bOoOjKYu5GgQcNZc1t8NCa3qbCsAWAdRpbOavxEENKT/7ImefrKKME3AAQAA3qmfgwMAAPCYI+AAAADvEHAAAIB3CDgAAMA7BBwAAOAdAg4AAPDOpsX/PuI0cQAA4BWugwMAALzDEBUAAPAOAQcAAHiHgAMAALxDwAEAAN4h4AAAAO8QcAAAgHcIOAAAwDsEHAAA4B0CDgAA8A4BBwAAeIeAAwAAvEPAAQAA3ln3gLMwfkmGz30i0+YxAADAatX9NXEdOM5PrphHrpqcGH5F+syjqqYvviuXH/bK2TOHpEs9DtfX0ZL3BoD1NSOj5ybkjnkk0iGHT5+Ul7abhwDaJqcHR4eZ1+Vc4kYAAYB8YbiRwbjcPLFzRa6OXpLP5swiANqm7UNUfafUgW96bwDAJ/tUuDndbx4ofacOyR5ZkakvH5hnALQLk4wBoCV6pc8JN6H/k1qnyNLif8xjAO1SIeDobth3ZXQynE8zrO4HtwsTsqBfnvwkfs4s5wr+TbRsSv5r4TpHxmkFAQCAxir34NwZf1em9pqx5tO9snlZhZALl2T4881y1ow/n+3vUMuVH3/u21sTWb4n06nlF8a/kDtSk5cHt5pnAOAxMPdvmVoW2bO31zwBoF1yAs68XHZ6YYLbxRnzmrHzUDzWvP2QvLxTZEkdyId/Fc+v6Rp8trnx5/4DcrhzRa7+013XA5n+ekWtbxeTnAE8RlSjb3RGltyyEkDb5AScjLOoTiVbIOkWydNbOtR/O6RrVadDbpW+3ep97n4TXxcnaAF1yOEXaQEBeEwEQ/UTcqezV86myk4A7bHhJhl3PbNDNsu8TJm5Owtf3pOlzh3Sx3UkADwGgouXjs/L5v5XOWMUWEcbLuBEw113vtLDVOHw1ObdP6WQALDh6RMl9IVS9wy+LkPMGQTW1cYLOEow2VgPU03ekqvLTC4G8BiYm5BP70oQbphzA6y/DRlwpH+X7JF5+fRzJhcDeDyEw+m98kvCDbAh5AScjLOozrXzcuO6kOiQpeUVTq8E8PhYnpHzdWVnu8tPAFrdH9vcKII/wvn1DvtHOQEAAMramENUMiN/m2RyMQAAqGZDBhyuXAwAAFZjQw1RBcNSkyvqnr7Q4CtMLgYAAJVs2Dk4AAAAVW3QOTgAAADVEXAAAIB3CDgAAMA7BBwAAOAdAg4AAPAOAQcAAHiHgAMAALxDwAEAAN7ZtPjfR1zoDwAAeIUrGQMAAO8wRAUAALxDwAEAAN4h4AAAAO8QcAAAgHcIOAAAwDsEHAAA4B0CDgAA8A4BBwAAeIeAAwAAvEPAAQAA3iHgAAAA7xBwAACAd9Y94ExffFeGL86YR2svWN+FCVkwjwEAgH/qAs7C+CUZPlcudARhQS07OmmekBkZVY9Hxh+YxwDw5IjKxPj2iUyb1wC0V34Pzt0v5LM5cz/L3IR8etfcB4An3oxMySE5N/y6ub0qhzvn5TIhB1gXOQGnQzZ3rsjUl/k9MQtf3pOlTrWceRzqldPqwB4a3GoeA8CTQpV/p3rNfW2rvPSrXlVGzsuU7eUG0C65AWff7g5ZmryV0/KYkb9Nrsie3TvMYwBAne1PSZe5C6C9coeoup7ZkdvyWBj/Qu5ITfY9Y56w8ubghM+7Y9N1y8xNyEjR6xnvkTVPyM4hMjfmAwFYN3MPZUE1GGt0agNtlz8HZ/sheXmnyJ3P02ccPZDpr1dkc/8B6TPPFAqCy4Tc2emMTZ/uTbZq7k7I8IcSDG8Frw/WZGnyI2fychiqZNC8bt5js/p3boDRE/zOT3bICWcZUe9DyAHQfqpRNqoaYf0/l5e2m6cAtE1+wFH6XlQhYlkPR5kntMlbcnW5Q/Y9U6ZJ8kA++3BGlnS4ccemVXg6nZinU5MTZw7FoUeFp8OdKlx9FffQdA2elNP95oFmAtjS4n/Cx2bS857BV+LgpdfTXzTUBgAtlOiJ/kJqp5mTCKyXwoAj238q+1JBY/qreZGdz5Zrkcz9W6aWVejY6068y7BzV6o3aKt0PaX+91B377pUYLoQDz9d1mdxmWXCSc+98ks3BCldXR3qvyuyUHRGGAC0gmpUDUU9yMM/F/lQl1WXis9IBbAmigOOPgvgZ7X4lPGgl6RDDr/YILBEHizJUovGn8PrS3wkU7tftcNUJ3aaF5VvF1dElmfkvG09mdu4CmQA0Haq/DyjTxVfkav/bHxdMQCt1SDgKP27ZI+Ep4xPq4N0qXOH9JUdT966OXUaeUWTn8hlHawKunuf3tIh0tkrZ23ryb2dZAwcwDrI640GsNYaBxzRwz4dsvT1P8I5Lj9z5so0EpwiWXw9nepmZMq50GAwFLV8T6bpCgawYTyQhYfqf09xujjQbiUCjp7g+6zsWV6RJX1qeGqOS7FeOW3OiEqcyTQ3IaPNnNkU9AQlg9L0xQm5Y+4HgonJK3J1NHXV0GbXBQAV6EtUuGd+atMXP5KryzU5kbgAIIB2KBVwdFDZt1PKnxru6n/Fnq5t58WM3pNaqbOwDD1xzwSl6D2m9ibn4ITj3fo5fWl0s55gXUuyj7MYAKwxfe2whXGn7FG3yw/1sLlzZieAttn06PsffjT3AQAAvFCyBwcAAODxQcABAADeIeAAAADvEHAAAIB3CDgAAMA7BBwAAOAdAg4AAPAOAQcAAHiHgAMAALxDwAEAAN4h4AAAAM+I/A+NMaSwGRnnIgAAAABJRU5ErkJggg==)"
      ],
      "metadata": {
        "id": "LoOUKHG8tHVL"
      }
    },
    {
      "cell_type": "markdown",
      "source": [
        "Day 2\n",
        "\n",
        "Today's Question:\n",
        "\n",
        "Santa wants to know which gifts weigh more than 1 kg. Can you list them?\n",
        "\n",
        "Table name: gifts\n",
        "\n",
        "gift_name\t| recipient\t| weight_kg\n",
        "\n",
        "Toy Train\tJohn\t2.5\n",
        "\n",
        "Chocolate Box\tAlice\t0.8\n",
        "\n",
        "Teddy Bear\tSophia\t1.2\n",
        "Board Game\tLiam\t0.9"
      ],
      "metadata": {
        "id": "y-yeONrStIjM"
      }
    },
    {
      "cell_type": "code",
      "source": [
        "select\n",
        "    gift_name\n",
        "from gifts\n",
        "where weight_kg > 1\n",
        ";"
      ],
      "metadata": {
        "id": "LaOS_Ib-tcu-"
      },
      "execution_count": null,
      "outputs": []
    },
    {
      "cell_type": "markdown",
      "source": [
        "![image.png](data:image/png;base64,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)"
      ],
      "metadata": {
        "id": "m8Id2voatfyf"
      }
    },
    {
      "cell_type": "markdown",
      "source": [],
      "metadata": {
        "id": "pQOUdsdctjhX"
      }
    }
  ]
}