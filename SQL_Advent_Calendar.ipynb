{
  "nbformat": 4,
  "nbformat_minor": 0,
  "metadata": {
    "colab": {
      "provenance": [],
      "authorship_tag": "ABX9TyMahk4iUK3JoygXZwNygFXy"
    },
    "kernelspec": {
      "name": "python3",
      "display_name": "Python 3"
    },
    "language_info": {
      "name": "python"
    }
  },
  "cells": [
    {
      "cell_type": "markdown",
      "source": [
        "Day 1\n",
        "\n",
        "Today's Question:\n",
        "\n",
        "A ski resort company want to know which customers rented ski equipment for more than one type of activity (e.g., skiing and snowboarding). List the customer names and the number of distinct activities they rented equipment for.\n",
        "\n",
        "Table name: rentals\n",
        "\n",
        "rental_id\t| customer_name\t| activity\t| rental_date\n",
        "\n",
        "1 Emily\tSkiing\t2024-01-01\n",
        "\n",
        "2\tMichael\tSnowboarding\t2024-01-02\n",
        "\n",
        "3\tEmily\tSnowboarding\t2024-01-03\n",
        "\n",
        "4\tSarah\tSkiing\t2024-01-01\n",
        "\n",
        "5\tMichael\tSkiing\t2024-01-02\n",
        "\n",
        "6\tMichael\tSnowtubing\t2024-01-02"
      ],
      "metadata": {
        "id": "yeNmfdKHq4uB"
      }
    },
    {
      "cell_type": "code",
      "source": [
        "select\n",
        "    customer_name,\n",
        "    count(distinct activity)\n",
        "from rentals\n",
        "group by customer_name\n",
        "having count(distinct activity) > 1\n",
        ";"
      ],
      "metadata": {
        "id": "hUWculXgrylN"
      },
      "execution_count": null,
      "outputs": []
    },
    {
      "cell_type": "markdown",
      "source": [
        "![image.png](data:image/png;base64,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)"
      ],
      "metadata": {
        "id": "LoOUKHG8tHVL"
      }
    },
    {
      "cell_type": "markdown",
      "source": [
        "Day 2\n",
        "\n",
        "Today's Question:\n",
        "\n",
        "Santa wants to know which gifts weigh more than 1 kg. Can you list them?\n",
        "\n",
        "Table name: gifts\n",
        "\n",
        "gift_name\t| recipient\t| weight_kg\n",
        "\n",
        "Toy Train\tJohn\t2.5\n",
        "\n",
        "Chocolate Box\tAlice\t0.8\n",
        "\n",
        "Teddy Bear\tSophia\t1.2\n",
        "Board Game\tLiam\t0.9"
      ],
      "metadata": {
        "id": "y-yeONrStIjM"
      }
    },
    {
      "cell_type": "code",
      "source": [
        "select\n",
        "    gift_name\n",
        "from gifts\n",
        "where weight_kg > 1\n",
        ";"
      ],
      "metadata": {
        "id": "LaOS_Ib-tcu-"
      },
      "execution_count": null,
      "outputs": []
    },
    {
      "cell_type": "markdown",
      "source": [
        "![image.png](data:image/png;base64,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)"
      ],
      "metadata": {
        "id": "m8Id2voatfyf"
      }
    },
    {
      "cell_type": "markdown",
      "source": [
        "Day 3\n",
        "\n",
        "Today's Question:\n",
        "\n",
        "You’re trying to identify the most calorie-packed candies to avoid during your holiday binge. Write a query to rank candies based on their calorie count within each category. Include the candy_name, candy_category, calories, and rank (rank_in_category) within the category.\n",
        "\n",
        "Table name: candy_nutrition\n",
        "\n",
        "candy_id\tcandy_name\tcalories\tcandy_category\n",
        "\n",
        "1\tCandy Cane\t200\tSweets\n",
        "\n",
        "2\tChocolate Bar\t250\tChocolate\n",
        "\n",
        "3\tGingerbread Cookie\t150\tBaked Goods\n",
        "\n",
        "4\tLollipop\t100\tSweets\n",
        "\n",
        "5\tDark Chocolate Truffle\t180\tChocolate\n",
        "\n",
        "6\tMarshmallow\t900\tSweets\n",
        "\n",
        "7\tSugar Cookie\t140\tBaked Goods"
      ],
      "metadata": {
        "id": "pQOUdsdctjhX"
      }
    },
    {
      "cell_type": "code",
      "source": [
        "select\n",
        "    candy_name,\n",
        "    candy_category,\n",
        "    calories,\n",
        "    RANK() OVER (PARTITION BY candy_category\n",
        "        ORDER BY calories DESC) as rank_in_category\n",
        "from candy_nutrition\n",
        "order by calories DESC\n",
        ";"
      ],
      "metadata": {
        "id": "3K5IiHJQuJyf"
      },
      "execution_count": null,
      "outputs": []
    },
    {
      "cell_type": "markdown",
      "source": [
        "![image.png](data:image/png;base64,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)"
      ],
      "metadata": {
        "id": "KTEMHMLWuL1u"
      }
    },
    {
      "cell_type": "markdown",
      "source": [
        "Day 4\n",
        "\n",
        "Today's Question:\n",
        "\n",
        "You’re planning your next ski vacation and want to find the best regions with heavy snowfall. Given the tables resorts and snowfall, find the average snowfall for each region and sort the regions in descending order of average snowfall. Return the columns region and average_snowfall.\n",
        "\n",
        "Table name: ski_resorts\n",
        "\n",
        "resort_id\tresort_name\tregion\n",
        "\n",
        "1\tSnowy Peaks\tRocky Mountains\n",
        "\n",
        "2\tWinter Wonderland\tWasatch Range\n",
        "\n",
        "3\tFrozen Slopes\tAlaska Range\n",
        "\n",
        "4\tPowder Paradise\tRocky Mountains\n",
        "\n",
        "Table name: snowfall\n",
        "\n",
        "resort_id\tsnowfall_inches\n",
        "\n",
        "1\t60\n",
        "\n",
        "2\t45\n",
        "\n",
        "3\t75\n",
        "\n",
        "4\t55"
      ],
      "metadata": {
        "id": "nW3B8aPVusmI"
      }
    },
    {
      "cell_type": "code",
      "source": [
        "select\n",
        "    sk.region as region,\n",
        "    AVG(sn.snowfall_inches) as average_snowfall\n",
        "from ski_resorts sk\n",
        "join snowfall sn on sk.resort_id = sn.resort_id\n",
        "group by region\n",
        "order by average_snowfall DESC\n",
        ";"
      ],
      "metadata": {
        "id": "vW3pJkkiu5z5"
      },
      "execution_count": null,
      "outputs": []
    },
    {
      "cell_type": "markdown",
      "source": [
        "![image.png](data:image/png;base64,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)"
      ],
      "metadata": {
        "id": "xiV2Ta1pu8Mw"
      }
    },
    {
      "cell_type": "markdown",
      "source": [
        "Day 5\n",
        "\n",
        "Today's Question:\n",
        "\n",
        "This year, we're celebrating Christmas in the Southern Hemisphere! Which beaches are expected to have temperatures above 30°C on Christmas Day?\n",
        "\n",
        "Table name: beach_temperature_predictions\n",
        "\n",
        "beach_name\tcountry\texpected_temperature_c\tdate\n",
        "\n",
        "Bondi Beach\tAustralia\t32\t2024-12-24\n",
        "\n",
        "Copacabana Beach\tBrazil\t28\t2024-12-24\n",
        "\n",
        "Clifton Beach\tSouth Africa\t31\t2024-12-25\n",
        "\n",
        "Brighton Beach\tNew Zealand\t25\t2024-12-25"
      ],
      "metadata": {
        "id": "F89ViTqGvBU-"
      }
    },
    {
      "cell_type": "code",
      "source": [
        "select\n",
        "    beach_name\n",
        "from beach_temperature_predictions\n",
        "where expected_temperature_c > 30\n",
        "    and date = '2024-12-25'\n",
        ";"
      ],
      "metadata": {
        "id": "5189XFD6vME7"
      },
      "execution_count": null,
      "outputs": []
    },
    {
      "cell_type": "markdown",
      "source": [
        "![image.png](data:image/png;base64,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)"
      ],
      "metadata": {
        "id": "wrTccrs2vOJo"
      }
    },
    {
      "cell_type": "markdown",
      "source": [
        "Day 6\n",
        "\n",
        "Today's Question:\n",
        "\n",
        "Scientists are tracking polar bears across the Arctic to monitor their migration patterns and caloric intake. Write a query to find the top 3 polar bears that have traveled the longest total distance in December 2024. Include their bear_id, bear_name, and total_distance_traveled in the results.\n",
        "\n",
        "Table name: polar_bears\n",
        "\n",
        "bear_id\tbear_name\tage\n",
        "\n",
        "1\tSnowball\t10\n",
        "\n",
        "2\tFrosty\t7\n",
        "\n",
        "3\tIceberg\t15\n",
        "\n",
        "4\tChilly\t5\n",
        "\n",
        "Table name: tracking\n",
        "\n",
        "tracking_id\tbear_id\tdistance_km\tdate\n",
        "\n",
        "1\t1\t25\t2024-12-01\n",
        "\n",
        "2\t2\t40\t2024-12-02\n",
        "\n",
        "3\t1\t30\t2024-12-03\n",
        "\n",
        "4\t3\t50\t2024-12-04\n",
        "\n",
        "5\t2\t35\t2024-12-05\n",
        "\n",
        "6\t4\t20\t2024-12-06\n",
        "\n",
        "7\t3\t55\t2024-12-07\n",
        "\n",
        "8\t1\t45\t2024-12-08"
      ],
      "metadata": {
        "id": "itEVjwV8vQ6w"
      }
    },
    {
      "cell_type": "code",
      "source": [
        "select\n",
        "    p.bear_id,\n",
        "    p.bear_name,\n",
        "    sum(distance_km) as total_distance_traveled\n",
        "from polar_bears p\n",
        "join tracking t on p.bear_id = t.bear_id\n",
        "where strftime('%m', date) = '12' and strftime('%Y', date) =  '2024'\n",
        "group by p.bear_id, p.bear_name\n",
        "order by total_distance_traveled DESC\n",
        "limit 3\n",
        ";"
      ],
      "metadata": {
        "id": "AexwcBalveKg"
      },
      "execution_count": null,
      "outputs": []
    },
    {
      "cell_type": "markdown",
      "source": [
        "![image.png](data:image/png;base64,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)"
      ],
      "metadata": {
        "id": "RNGMAxVPviUR"
      }
    },
    {
      "cell_type": "markdown",
      "source": [
        "Day 7\n",
        "\n",
        "Today's Question:\n",
        "\n",
        "The owner of a winter market wants to know which vendors have generated the highest revenue overall. For each vendor, calculate the total revenue for all their items and return a list of the top 2 vendors by total revenue. Include the vendor_name and total_revenue in your results.\n",
        "\n",
        "Table name: vendors\n",
        "\n",
        "vendor_id\tvendor_name\tmarket_location\n",
        "\n",
        "1\tCozy Crafts\tDowntown Square\n",
        "\n",
        "2\tSweet Treats\tCentral Park\n",
        "\n",
        "3\tWinter Warmers\tDowntown Square\n",
        "\n",
        "Table name: sales\n",
        "\n",
        "sale_id\tvendor_id\titem_name\tquantity_sold\tprice_per_unit\n",
        "\n",
        "1\t1\tKnitted Scarf\t15\t25\n",
        "\n",
        "2\t2\tHot Chocolate\t50\t3.5\n",
        "\n",
        "3\t3\tWool Hat\t20\t18\n",
        "\n",
        "4\t1\tHandmade Ornament\t10\t15\n",
        "\n",
        "5\t2\tGingerbread Cookie\t30\t5"
      ],
      "metadata": {
        "id": "bKFiElFHuj6F"
      }
    },
    {
      "cell_type": "code",
      "source": [
        "select\n",
        "    v.vendor_name as vendor_name,\n",
        "    sum(s.quantity_sold * s.price_per_unit) as total_revenue\n",
        "from vendors v\n",
        "join sales s on v.vendor_id = s.vendor_id\n",
        "group by vendor_name\n",
        "order by total_revenue DESC\n",
        "limit 2\n",
        ";"
      ],
      "metadata": {
        "id": "dLM0nKw3wMS-"
      },
      "execution_count": null,
      "outputs": []
    },
    {
      "cell_type": "markdown",
      "source": [
        "![image.png](data:image/png;base64,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)"
      ],
      "metadata": {
        "id": "fUUGsFNywO6m"
      }
    },
    {
      "cell_type": "markdown",
      "source": [],
      "metadata": {
        "id": "vOrNj9uRwSmi"
      }
    }
  ]
}